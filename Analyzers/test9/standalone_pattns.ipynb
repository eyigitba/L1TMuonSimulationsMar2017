{
 "cells": [
  {
   "cell_type": "code",
   "execution_count": 1,
   "metadata": {},
   "outputs": [],
   "source": [
    "from __future__ import absolute_import\n",
    "from __future__ import division\n",
    "from __future__ import print_function\n",
    "\n",
    "import numpy as np\n",
    "\n",
    "from emtf_algos import *"
   ]
  },
  {
   "cell_type": "code",
   "execution_count": 2,
   "metadata": {},
   "outputs": [
    {
     "name": "stderr",
     "output_type": "stream",
     "text": [
      "/cvmfs/cms.cern.ch/slc7_amd64_gcc700/external/py2-requests/2.21.0-pafccj2/lib/python2.7/site-packages/requests/__init__.py:91: RequestsDependencyWarning: urllib3 (1.25.2) or chardet (2.2.1) doesn't match a supported version!\n",
      "  RequestsDependencyWarning)\n",
      "Using TensorFlow backend.\n",
      "[INFO    ] Using cmssw      : CMSSW_10_6_3\n",
      "[INFO    ] Using python     : 2.7.14+ (default, Apr 19 2019, 15:48:06) [GCC 7.4.1 20190129]\n",
      "[INFO    ] Using numpy      : 1.16.2\n",
      "[INFO    ] Using tensorflow : 1.6.0\n",
      "[INFO    ] Using keras      : 2.2.4\n",
      "[INFO    ] .. list devices  : [_DeviceAttributes(/job:localhost/replica:0/task:0/device:CPU:0, CPU, 268435456)]\n",
      "[INFO    ] Using matplotlib : 2.2.4\n"
     ]
    }
   ],
   "source": [
    "import sys\n",
    "import os\n",
    "os.environ['KERAS_BACKEND'] = 'tensorflow'\n",
    "\n",
    "# Set random seed\n",
    "np.random.seed(2027)\n",
    "\n",
    "from collections import OrderedDict\n",
    "\n",
    "import tensorflow as tf\n",
    "import keras\n",
    "from keras import backend as K\n",
    "import matplotlib as mpl\n",
    "import matplotlib.pyplot as plt\n",
    "\n",
    "# Set random seed\n",
    "tf.set_random_seed(2027)\n",
    "\n",
    "logger = get_logger()\n",
    "logger.info('Using cmssw      : {0}'.format(os.environ['CMSSW_VERSION'] if 'CMSSW_VERSION' in os.environ else 'n/a'))\n",
    "logger.info('Using python     : {0}'.format(sys.version.replace('\\n', '')))\n",
    "logger.info('Using numpy      : {0}'.format(np.__version__))\n",
    "logger.info('Using tensorflow : {0}'.format(tf.__version__))\n",
    "logger.info('Using keras      : {0}'.format(keras.__version__))\n",
    "logger.info('.. list devices  : {0}'.format(K.get_session().list_devices()))\n",
    "logger.info('Using matplotlib : {0}'.format(mpl.__version__))\n",
    "\n",
    "%matplotlib inline"
   ]
  },
  {
   "cell_type": "code",
   "execution_count": 3,
   "metadata": {},
   "outputs": [
    {
     "name": "stderr",
     "output_type": "stream",
     "text": [
      "[INFO    ] Processing zone 0 timezone 1\n",
      "[INFO    ] .. maxevents    : -1\n",
      "[INFO    ] .. image_format : (8, 300, 1)\n",
      "[INFO    ] .. image_stride : (320, 5120, 16)\n",
      "[INFO    ] .. num_params   : 5\n"
     ]
    }
   ],
   "source": [
    "# Settings\n",
    "\n",
    "# zone: (0,1,2) -> eta=(1.98-2.5, 1.55-1.98, 1.2-1.55)\n",
    "zone = 0\n",
    "\n",
    "# timezone: (0,1,2) -> BX=(-1,0,+1)\n",
    "timezone = 1\n",
    "\n",
    "#maxevents = 200000\n",
    "maxevents = -1\n",
    "\n",
    "# Input files\n",
    "signal = 'signal_add.20200721.npz'\n",
    "signal_displ = 'signal_displ_add.20200721.npz'\n",
    "bkgnd = 'bkgnd_add.20200716.npz'\n",
    "\n",
    "# Input data columns\n",
    "part_metadata = ['part_invpt', 'part_eta', 'part_phi',\n",
    "                 'part_vx', 'part_vy', 'part_vz',\n",
    "                 'part_d0', 'part_sector', 'part_zone']\n",
    "part_metadata = OrderedDict(zip(part_metadata, range(len(part_metadata))))\n",
    "#print(part_metadata)\n",
    "\n",
    "hits_metadata = ['emtf_layer', 'ri_layer', 'zones', 'timezones',\n",
    "                 'emtf_chamber', 'emtf_segment', 'detlayer', 'bx',\n",
    "                 'emtf_phi', 'emtf_bend', 'emtf_theta', 'emtf_theta_alt',\n",
    "                 'emtf_qual', 'emtf_time', 'fr', 'rsvd']\n",
    "hits_metadata = OrderedDict(zip(hits_metadata, range(len(hits_metadata))))\n",
    "#print(hits_metadata)\n",
    "\n",
    "# Image format\n",
    "num_channels = 1\n",
    "num_cols = 300\n",
    "num_rows = 8\n",
    "image_format = (num_rows, num_cols, num_channels)\n",
    "\n",
    "# Image sliding window\n",
    "image_stride = (min_emtf_strip, max_emtf_strip, coarse_emtf_strip)\n",
    "\n",
    "# Parameter\n",
    "num_params = 5\n",
    "\n",
    "# q/pT and d0 binning\n",
    "#invpt_bins = np.array([-0.5, -0.3, -0.1, 0.1, 0.3, 0.5])\n",
    "#dzero_bins = np.array([-150., -90., -30., 30., 90., 150.])\n",
    "\n",
    "logger.info('Processing zone {0} timezone {1}'.format(zone, timezone))\n",
    "logger.info('.. maxevents    : {0}'.format(maxevents))\n",
    "logger.info('.. image_format : {0}'.format(image_format))\n",
    "logger.info('.. image_stride : {0}'.format(image_stride))\n",
    "logger.info('.. num_params   : {0}'.format(num_params))"
   ]
  },
  {
   "cell_type": "code",
   "execution_count": 4,
   "metadata": {},
   "outputs": [],
   "source": [
    "# Styling\n",
    "plt.style.use('tdrstyle.mplstyle')\n",
    "\n",
    "# Color maps\n",
    "from matplotlib.colors import ListedColormap\n",
    "my_cmap = ListedColormap(plt.cm.viridis.colors, name='viridis_mod')\n",
    "my_cmap.set_under('w',1)\n",
    "\n",
    "from matplotlib.colors import LinearSegmentedColormap\n",
    "cdict = {\n",
    "  'blue' : ((0.0, 0.0416, 0.0416), (0.365079, 1.0, 1.0), (1.0, 1.0, 1.0)),\n",
    "  'green': ((0.0, 0.0, 0.0), (0.365079, 0.0, 0.0), (0.746032, 1.0, 1.0), (1.0, 1.0, 1.0)),\n",
    "  'red'  : ((0.0, 0.0, 0.0), (0.746032, 0.0, 0.0), (1.0, 1.0, 1.0)),\n",
    "}\n",
    "blue_hot = LinearSegmentedColormap('blue_hot', cdict)\n",
    "\n",
    "cdict = {\n",
    "  'blue' : ((0.0, 0.0, 0.0), (0.365079, 0.0, 0.0), (0.746032, 1.0, 1.0), (1.0, 1.0, 1.0)),\n",
    "  'green': ((0.0, 0.0416, 0.0416), (0.365079, 1.0, 1.0), (1.0, 1.0, 1.0)),\n",
    "  'red'  : ((0.0, 0.0, 0.0), (0.746032, 0.0, 0.0), (1.0, 1.0, 1.0)),\n",
    "}\n",
    "green_hot = LinearSegmentedColormap('green_hot', cdict)"
   ]
  },
  {
   "cell_type": "markdown",
   "metadata": {},
   "source": [
    "### Load data"
   ]
  },
  {
   "cell_type": "code",
   "execution_count": 5,
   "metadata": {},
   "outputs": [],
   "source": [
    "def load_signal(f):\n",
    "  logger.info('Loading from {0}'.format(f))\n",
    "  with np.load(f) as loaded:\n",
    "    out_part = loaded['out_part']\n",
    "    out_hits = RaggedTensorValue(loaded['out_hits_values'], loaded['out_hits_row_splits'])\n",
    "    out_simhits = RaggedTensorValue(loaded['out_simhits_values'], loaded['out_simhits_row_splits'])\n",
    "    logger.info('out_part: {0} out_hits: {1} out_simhits: {2}'.format(out_part.shape, out_hits.shape, out_simhits.shape))\n",
    "  return (out_part, out_hits, out_simhits)\n",
    "\n",
    "def load_bkgnd(f):\n",
    "  logger.info('Loading from {0}'.format(f))\n",
    "  with np.load(f) as loaded:\n",
    "    out_aux = loaded['out_aux']\n",
    "    out_hits = RaggedTensorValue(loaded['out_hits_values'], loaded['out_hits_row_splits'])\n",
    "    logger.info('out_aux: {0} out_hits: {1}'.format(out_aux.shape, out_hits.shape))\n",
    "  return (out_aux, out_hits)"
   ]
  },
  {
   "cell_type": "code",
   "execution_count": 6,
   "metadata": {},
   "outputs": [
    {
     "name": "stderr",
     "output_type": "stream",
     "text": [
      "[INFO    ] Loading from signal_add.20200721.npz\n",
      "[INFO    ] out_part: (2000000, 9) out_hits: (2000000, None, 16) out_simhits: (2000000, None, 16)\n"
     ]
    }
   ],
   "source": [
    "part_data, hits_data, simhits_data = load_signal(signal)\n",
    "\n",
    "#bkg_aux_data, bkg_hits_data = load_bkgnd(bkgnd)"
   ]
  },
  {
   "cell_type": "code",
   "execution_count": 7,
   "metadata": {
    "scrolled": true
   },
   "outputs": [
    {
     "name": "stdout",
     "output_type": "stream",
     "text": [
      "Event 0\n",
      "[-2.5611117e-01  2.1183386e+00 -6.1635029e-01  6.7432784e-04  9.9125458e-04 -4.6484246e+00\n",
      " -1.1986600e-03  5.0000000e+00  0.0000000e+00]\n",
      "[[   0    0    4    3    2    0    0    0 2548    5   18   17   -6    0    0  -99]\n",
      " [   0    0    4    3    2    1    0    0 2548    5   17   18   -6    0    0  -99]\n",
      " [   2    3    4    3   19    0    0    0 2684    2   16   16    6    0    1  -99]\n",
      " [   3    5    4    3   28    0    0    0 2819   15   17   16   -5    0    0  -99]\n",
      " [   3    5    4    3   28    1    0    0 2728    0   16   17   -5    0    0  -99]\n",
      " [   4    7    4    3   37    0    0    0 2736    0   16   16   -5    0    0  -99]\n",
      " [   9    9    4    2   55    0    0    0 2505    0   18   18    0    0    1  -99]\n",
      " [  10   12    4    2   73    0    0    0 2675    0   19   19    0    0    1  -99]\n",
      " [   7   14    4    2   82    0    0    0 2888    0   17   17    0    1    0  -99]\n",
      " [   7   14    4    2   82    1    0    0 2714    0   17   17    0    1    0  -99]\n",
      " [   8   16    4    2   91    0    0    0 2737    0   17   17    0    0    0  -99]\n",
      " [  11   18    4    2  109    0    0    0 2479   15   17   17    6    0    1  -99]]\n",
      "[[   0    0    4    3    1    0    2    0 2521    0   18   18    0    0    0  -99]\n",
      " [   0    0    4    3    2    0    3    0 2550    0   17   17    0    0    0  -99]\n",
      " [   2    3    4    3   19    0    3    0 2685    0   16   16    0    0    0  -99]\n",
      " [   3    5    4    3   28    0    3    0 2726    0   16   16    0    0    0  -99]\n",
      " [   4    7    4    3   37    0    3    0 2738    0   16   16    0    0    0  -99]\n",
      " [   9    9    4    2   55    0    1    0 2505    0   18   18    0    0    0  -99]\n",
      " [  10   12    4    2   73    0    1    0 2675    0   16   16    0    0    0  -99]\n",
      " [   7   14    4    2   82    0    1    0 2729    0   16   16    0    0    0  -99]\n",
      " [   8   16    4    2   91    0    1    0 2740    0   16   16    0    0    0  -99]\n",
      " [  11   18    4    2  109    0    3    0 2478    0   18   18    0    0    0  -99]]\n",
      "Event 1\n",
      "[-4.0046290e-01  2.3142025e+00  6.4087741e-02  1.4847411e-03  9.6298632e-04  7.3685479e+00\n",
      " -8.6592627e-04  0.0000000e+00  0.0000000e+00]\n",
      "[[   0    0    4    3    0    0    0    0 1549    6    8    7   -6    0    0  -99]\n",
      " [   0    0    4    3    0    1    0    0 1549    6    7    8   -6    0    0  -99]\n",
      " [   2    3    4    3   18    0    0    0 1797    2    7    7    5    0    1  -99]\n",
      " [   3    5    4    3   27    0    0    0 1904    2    7    7   -4    0    0  -99]\n",
      " [   4    7    4    3   36    0    0    0 1935    1    7    7   -6    0    0  -99]\n",
      " [   4    7    4    3   36    1    0    0 1935    1    7    7   -6    0    0  -99]\n",
      " [  10   12    4    2   72    0    0    0 1769    0    7    7    0    0    1  -99]\n",
      " [   8   16    4    2   90    0    0    0 1939    0    7    7    0    0    0  -99]\n",
      " [  11   18    4    2  108    0    0    0 1444   22    8    8    6    0    1  -99]]\n",
      "[[   0    0    4    3    0    0    3    0 1550    0    8    8    0    0    0  -99]\n",
      " [   2    3    4    3   18    0    3    0 1796    0    7    7    0    0    0  -99]\n",
      " [   3    5    4    3   27    0    3    0 1903    0    7    7    0    0    0  -99]\n",
      " [   4    7    4    3   36    0    3    0 1935    0    7    7    0    0    0  -99]\n",
      " [  10   12    4    2   72    0    1    0 1769    0    7    7    0    0    0  -99]\n",
      " [   7   14    4    2   81    0    1    0 1910    0    7    7    0    0    0  -99]\n",
      " [   8   16    4    2   90    0    1    0 1941    0    7    7    0    0    0  -99]\n",
      " [  11   18    4    2  108    0    3    0 1441    0    8    8    0    0    0  -99]]\n",
      "Event 2\n",
      "[-4.8920679e-01  1.2863319e+00  6.7320757e-02  9.8565783e-05 -1.6868672e-04 -1.0444965e+01\n",
      "  1.7493511e-04  0.0000000e+00  2.0000000e+00]\n",
      "[]\n",
      "[]\n",
      "Event 3\n",
      "[ 1.7656037e-01  2.2640278e+00  2.3763335e+00  2.2684382e-03  1.2071572e-03 -1.4109939e+00\n",
      "  2.4420074e-03  1.0000000e+00  0.0000000e+00]\n",
      "[[   3    5    4    6   29    0    0   -1 4503    1   11   11    5    0    1  -99]\n",
      " [   3    5    4    6   29    1    0   -1 4503    1   11   11    5    0    1  -99]\n",
      " [   0    0    4    3   11    0    0    0 4643    0   12   12    4    0    1  -99]\n",
      " [   2    3    4    3   20    0    0    0 4528    0   11   11   -5    0    0  -99]\n",
      " [   2    3    4    3   20    1    0    0 4528    0   11   11   -5    0    0  -99]\n",
      " [   4    7    4    3   38    0    0    0 4485   -2   11   11    6    0    1  -99]\n",
      " [  10   12    4    2   74    0    0    0 4547    0   12   12    0    0    0  -99]\n",
      " [   7   14    4    2   83    0    0    0 4483    0   10   10    0    0    1  -99]\n",
      " [   8   16    4    2   92    0    0    0 4483    0   11   11    0    1    1  -99]\n",
      " [  11   18    4    2  108    0    0    0 4661   -6   13   13    6    0    1  -99]]\n",
      "[[   0    0    4    3   11    0    3    0 4642    0   12   12    0    0    0  -99]\n",
      " [   2    3    4    3   20    0    3    0 4529    0   11   11    0    0    0  -99]\n",
      " [   3    5    4    3   29    0    3    0 4503    0   11   11    0    0    0  -99]\n",
      " [   4    7    4    3   38    0    3    0 4487    0   11   11    0    0    0  -99]\n",
      " [  10   12    4    2   74    0    1    0 4548    0   11   11    0    0    0  -99]\n",
      " [   7   14    4    2   83    0    1    0 4494    0   11   11    0    0    0  -99]\n",
      " [   8   16    4    2   92    0    1    0 4483    0   11   11    0    0    0  -99]\n",
      " [  11   18    4    2  108    0    3    0 4662    0   12   12    0    0    0  -99]]\n",
      "Event 4\n",
      "[-3.1579190e-01  1.7625158e+00 -2.4868441e-01 -8.3319443e-05 -4.0714286e-04  4.0187044e+00\n",
      "  4.1512528e-04  0.0000000e+00  1.0000000e+00]\n",
      "[[   0    0    2    3   45    0    0    0  798    8   36   36    5    0    1  -99]\n",
      " [   2    3    2    3   48    0    0    0 1196    1   33   33   -6    0    0  -99]\n",
      " [   2    3    2    3   48    1    0    0 1196    1   33   33   -6    0    0  -99]\n",
      " [   3    5    2    3   50    0    0    0 1209   -1   32   32    6    0    1  -99]\n",
      " [   3    5    2    3   50    1    0    0 1209   -1   32   32    6    0    1  -99]\n",
      " [   4    7    2    3   52    0    0    0 1192    0   31   31    5    0    1  -99]\n",
      " [   9    9    2    2   99    0    0    0  750    0   35   35    0    0    1  -99]\n",
      " [  10   12    2    2  102    0    0    0 1171    0   35   35    0    0    0  -99]\n",
      " [   7   14    2    2  104    0    0    0 1202    0   32   32    0    0    1  -99]\n",
      " [   8   17    2    2  107    0    0    0 1180    0   36   36    0    0    0  -99]]\n",
      "[[   0    0    2    3   45    0    3    0  798    0   36   36    0    0    0  -99]\n",
      " [   2    3    2    3   48    0    3    0 1194    0   34   34    0    0    0  -99]\n",
      " [   3    5    2    3   50    0    3    0 1210    0   33   33    0    0    0  -99]\n",
      " [   4    7    2    3   52    0    3    0 1189    0   32   32    0    0    0  -99]\n",
      " [   9    9    2    2   99    0    1    0  750    0   36   36    0    0    0  -99]\n",
      " [  10   12    2    2  102    0    1    0 1169    0   34   34    0    0    0  -99]\n",
      " [   7   14    2    2  104    0    1    0 1200    0   32   32    0    0    0  -99]\n",
      " [   8   17    0    2  107    0    1    0 1179    0   31   31    0    0    0  -99]]\n"
     ]
    }
   ],
   "source": [
    "# Debug\n",
    "with np.printoptions(linewidth=100, threshold=1000):\n",
    "  for i in range(5):\n",
    "    print('Event {0}'.format(i))\n",
    "    print(part_data[i])\n",
    "    print(hits_data[i])\n",
    "    print(simhits_data[i])"
   ]
  },
  {
   "cell_type": "code",
   "execution_count": 8,
   "metadata": {
    "scrolled": true
   },
   "outputs": [
    {
     "name": "stdout",
     "output_type": "stream",
     "text": [
      "Event 0\n"
     ]
    }
   ],
   "source": [
    "# Debug\n",
    "try:\n",
    "  with np.printoptions(linewidth=100, threshold=1000):\n",
    "    for i in range(10):\n",
    "      print('Event {0}'.format(i))\n",
    "      print(bkg_aux_data[i])\n",
    "      print(bkg_hits_data[i])\n",
    "except:\n",
    "  pass"
   ]
  },
  {
   "cell_type": "markdown",
   "metadata": {},
   "source": [
    "### Zone selection"
   ]
  },
  {
   "cell_type": "code",
   "execution_count": 9,
   "metadata": {},
   "outputs": [],
   "source": [
    "part_zone = part_data[:, part_metadata['part_zone']].astype(np.int32)\n",
    "\n",
    "zone_mask = (part_zone == zone)\n",
    "\n",
    "zerosimhits_mask = (simhits_data.row_lengths == 0)\n",
    "\n",
    "zone_mask = zone_mask & (~zerosimhits_mask)"
   ]
  },
  {
   "cell_type": "code",
   "execution_count": 10,
   "metadata": {},
   "outputs": [
    {
     "name": "stderr",
     "output_type": "stream",
     "text": [
      "[INFO    ] zone_part_data: (786769, 9) zone_hits_data: (786769, None, 16) zone_simhits_data: (786769, None, 16)\n"
     ]
    }
   ],
   "source": [
    "zone_part_data = part_data[zone_mask]\n",
    "zone_hits_data = ragged_row_boolean_mask(hits_data, zone_mask)\n",
    "zone_simhits_data = ragged_row_boolean_mask(simhits_data, zone_mask)\n",
    "\n",
    "logger.info('zone_part_data: {0} zone_hits_data: {1} zone_simhits_data: {2}'.format(zone_part_data.shape, zone_hits_data.shape, zone_simhits_data.shape))"
   ]
  },
  {
   "cell_type": "code",
   "execution_count": 11,
   "metadata": {},
   "outputs": [
    {
     "name": "stdout",
     "output_type": "stream",
     "text": [
      "Event 0\n",
      "[-2.5611117e-01  2.1183386e+00 -6.1635029e-01  6.7432784e-04  9.9125458e-04 -4.6484246e+00\n",
      " -1.1986600e-03  5.0000000e+00  0.0000000e+00]\n",
      "[[   0    0    4    3    2    0    0    0 2548    5   18   17   -6    0    0  -99]\n",
      " [   0    0    4    3    2    1    0    0 2548    5   17   18   -6    0    0  -99]\n",
      " [   2    3    4    3   19    0    0    0 2684    2   16   16    6    0    1  -99]\n",
      " [   3    5    4    3   28    0    0    0 2819   15   17   16   -5    0    0  -99]\n",
      " [   3    5    4    3   28    1    0    0 2728    0   16   17   -5    0    0  -99]\n",
      " [   4    7    4    3   37    0    0    0 2736    0   16   16   -5    0    0  -99]\n",
      " [   9    9    4    2   55    0    0    0 2505    0   18   18    0    0    1  -99]\n",
      " [  10   12    4    2   73    0    0    0 2675    0   19   19    0    0    1  -99]\n",
      " [   7   14    4    2   82    0    0    0 2888    0   17   17    0    1    0  -99]\n",
      " [   7   14    4    2   82    1    0    0 2714    0   17   17    0    1    0  -99]\n",
      " [   8   16    4    2   91    0    0    0 2737    0   17   17    0    0    0  -99]\n",
      " [  11   18    4    2  109    0    0    0 2479   15   17   17    6    0    1  -99]]\n",
      "[[   0    0    4    3    1    0    2    0 2521    0   18   18    0    0    0  -99]\n",
      " [   0    0    4    3    2    0    3    0 2550    0   17   17    0    0    0  -99]\n",
      " [   2    3    4    3   19    0    3    0 2685    0   16   16    0    0    0  -99]\n",
      " [   3    5    4    3   28    0    3    0 2726    0   16   16    0    0    0  -99]\n",
      " [   4    7    4    3   37    0    3    0 2738    0   16   16    0    0    0  -99]\n",
      " [   9    9    4    2   55    0    1    0 2505    0   18   18    0    0    0  -99]\n",
      " [  10   12    4    2   73    0    1    0 2675    0   16   16    0    0    0  -99]\n",
      " [   7   14    4    2   82    0    1    0 2729    0   16   16    0    0    0  -99]\n",
      " [   8   16    4    2   91    0    1    0 2740    0   16   16    0    0    0  -99]\n",
      " [  11   18    4    2  109    0    3    0 2478    0   18   18    0    0    0  -99]]\n",
      "Event 1\n",
      "[-4.0046290e-01  2.3142025e+00  6.4087741e-02  1.4847411e-03  9.6298632e-04  7.3685479e+00\n",
      " -8.6592627e-04  0.0000000e+00  0.0000000e+00]\n",
      "[[   0    0    4    3    0    0    0    0 1549    6    8    7   -6    0    0  -99]\n",
      " [   0    0    4    3    0    1    0    0 1549    6    7    8   -6    0    0  -99]\n",
      " [   2    3    4    3   18    0    0    0 1797    2    7    7    5    0    1  -99]\n",
      " [   3    5    4    3   27    0    0    0 1904    2    7    7   -4    0    0  -99]\n",
      " [   4    7    4    3   36    0    0    0 1935    1    7    7   -6    0    0  -99]\n",
      " [   4    7    4    3   36    1    0    0 1935    1    7    7   -6    0    0  -99]\n",
      " [  10   12    4    2   72    0    0    0 1769    0    7    7    0    0    1  -99]\n",
      " [   8   16    4    2   90    0    0    0 1939    0    7    7    0    0    0  -99]\n",
      " [  11   18    4    2  108    0    0    0 1444   22    8    8    6    0    1  -99]]\n",
      "[[   0    0    4    3    0    0    3    0 1550    0    8    8    0    0    0  -99]\n",
      " [   2    3    4    3   18    0    3    0 1796    0    7    7    0    0    0  -99]\n",
      " [   3    5    4    3   27    0    3    0 1903    0    7    7    0    0    0  -99]\n",
      " [   4    7    4    3   36    0    3    0 1935    0    7    7    0    0    0  -99]\n",
      " [  10   12    4    2   72    0    1    0 1769    0    7    7    0    0    0  -99]\n",
      " [   7   14    4    2   81    0    1    0 1910    0    7    7    0    0    0  -99]\n",
      " [   8   16    4    2   90    0    1    0 1941    0    7    7    0    0    0  -99]\n",
      " [  11   18    4    2  108    0    3    0 1441    0    8    8    0    0    0  -99]]\n",
      "Event 2\n",
      "[ 1.7656037e-01  2.2640278e+00  2.3763335e+00  2.2684382e-03  1.2071572e-03 -1.4109939e+00\n",
      "  2.4420074e-03  1.0000000e+00  0.0000000e+00]\n",
      "[[   3    5    4    6   29    0    0   -1 4503    1   11   11    5    0    1  -99]\n",
      " [   3    5    4    6   29    1    0   -1 4503    1   11   11    5    0    1  -99]\n",
      " [   0    0    4    3   11    0    0    0 4643    0   12   12    4    0    1  -99]\n",
      " [   2    3    4    3   20    0    0    0 4528    0   11   11   -5    0    0  -99]\n",
      " [   2    3    4    3   20    1    0    0 4528    0   11   11   -5    0    0  -99]\n",
      " [   4    7    4    3   38    0    0    0 4485   -2   11   11    6    0    1  -99]\n",
      " [  10   12    4    2   74    0    0    0 4547    0   12   12    0    0    0  -99]\n",
      " [   7   14    4    2   83    0    0    0 4483    0   10   10    0    0    1  -99]\n",
      " [   8   16    4    2   92    0    0    0 4483    0   11   11    0    1    1  -99]\n",
      " [  11   18    4    2  108    0    0    0 4661   -6   13   13    6    0    1  -99]]\n",
      "[[   0    0    4    3   11    0    3    0 4642    0   12   12    0    0    0  -99]\n",
      " [   2    3    4    3   20    0    3    0 4529    0   11   11    0    0    0  -99]\n",
      " [   3    5    4    3   29    0    3    0 4503    0   11   11    0    0    0  -99]\n",
      " [   4    7    4    3   38    0    3    0 4487    0   11   11    0    0    0  -99]\n",
      " [  10   12    4    2   74    0    1    0 4548    0   11   11    0    0    0  -99]\n",
      " [   7   14    4    2   83    0    1    0 4494    0   11   11    0    0    0  -99]\n",
      " [   8   16    4    2   92    0    1    0 4483    0   11   11    0    0    0  -99]\n",
      " [  11   18    4    2  108    0    3    0 4662    0   12   12    0    0    0  -99]]\n",
      "Event 3\n",
      "[-3.4682283e-01  2.0039299e+00 -3.8129023e-01  1.6531798e-03 -5.0811906e-04  4.8942399e+00\n",
      " -1.4355575e-04  5.0000000e+00  0.0000000e+00]\n",
      "[[   0    0    4    3    9    0    0    0 3652    5   22   21    5    0    1  -99]\n",
      " [   0    0    4    3    9    1    0    0 3652    5   21   22    5    0    1  -99]\n",
      " [   2    3    4    3   20    0    0    0 3826   -1   19   19   -6    0    0  -99]\n",
      " [   3    5    4    3   29    0    0    0 3790   -1   18   18    6    0    1  -99]\n",
      " [   4    7    4    3   37    0    0    0 3715   -2   18   18   -6    0    0  -99]\n",
      " [   4    7    4    3   37    1    0    0 3715   -2   18   18   -6    0    0  -99]\n",
      " [   4    7    4    3   38    0    0    0 3728    0   18   18    5    0    1  -99]\n",
      " [   9    9    4    2   63    0    0    0 3631    0   21   21    0    0    1  -99]\n",
      " [  10   12    4    2   74    0    0    0 3832    0   19   19    0    0    0  -99]\n",
      " [   7   14    4    2   83    0    0    0 3760    0   19   19    0    0    1  -99]\n",
      " [   8   16    4    2   91    0    0    0 3701    0   18   18    0    0    0  -99]\n",
      " [  11   18    4    2  110    0    0    0 3601   18   23   23   -6    0    0  -99]]\n",
      "[[   0    0    4    3    9    0    3    0 3653    0   22   22    0    0    0  -99]\n",
      " [   2    3    4    3   20    0    3    0 3825    0   20   20    0    0    0  -99]\n",
      " [   3    5    4    3   29    0    3    0 3790    0   19   19    0    0    0  -99]\n",
      " [   4    7    4    3   37    0    3    0 3715    0   19   19    0    0    0  -99]\n",
      " [   4    7    4    3   38    0    3    0 3729    0   19   19    0    0    0  -99]\n",
      " [   9    9    4    2   63    0    1    0 3630    0   22   22    0    0    0  -99]\n",
      " [  10   12    4    2   74    0    1    0 3833    0   20   20    0    0    0  -99]\n",
      " [   7   14    4    2   83    0    1    0 3760    0   19   19    0    0    0  -99]\n",
      " [   8   16    4    2   91    0    1    0 3704    0   18   18    0    0    0  -99]\n",
      " [  11   18    4    2  110    0    3    0 3599    0   22   22    0    0    0  -99]]\n",
      "Event 4\n",
      "[-3.1149748e-01  2.4078703e+00  1.1192138e+00 -5.1064172e-04  4.6175664e-06  5.1312881e+00\n",
      " -4.6146897e-04  1.0000000e+00  0.0000000e+00]\n",
      "[[   0    0    4    3    0    0    0    0 1338    4    5    5   -6    0    0  -99]\n",
      " [   0    0    4    3    0    1    0    0 1338    4    5    5   -6    0    0  -99]\n",
      " [   2    3    4    3   18    0    0    0 1392    0    5    5   -3    0    0  -99]\n",
      " [  10   12    4    2   72    0    0    0 1400    0    7    7    0    0    0  -99]\n",
      " [   7   14    4    2   81    0    0    0 1378    0    5    5    0    1    1  -99]\n",
      " [   8   16    4    2   90    0    0    0 1367    0    5    5    0    1    1  -99]\n",
      " [  11   18    4    2  111    0    0    0 1275   18    8    8   -6    0    0  -99]\n",
      " [  11   18    4    2  111    1    0    0 1300   27    4    4   -4    0    0  -99]\n",
      " [  11   18    4    2  111    2    0    0 1270   44    4    4   -4    0    0  -99]]\n",
      "[[   0    0    4    3    0    0    3    0 1340    0    6    6    0    0    0  -99]\n",
      " [   2    3    4    3   18    0    4    0 1395    0    6    6    0    0    0  -99]\n",
      " [  10   12    4    2   72    0    1    0 1399    0    6    6    0    0    0  -99]\n",
      " [   7   14    4    2   81    0    1    0 1382    0    5    5    0    0    0  -99]\n",
      " [   8   16    4    2   90    0    1    0 1373    0    5    5    0    0    0  -99]\n",
      " [  11   18    4    2  108    0    3    0 1271    0    6    6    0    0    0  -99]]\n"
     ]
    }
   ],
   "source": [
    "# Debug\n",
    "with np.printoptions(linewidth=100, threshold=1000):\n",
    "  for i in range(5):\n",
    "    print('Event {0}'.format(i))\n",
    "    print(zone_part_data[i])\n",
    "    print(zone_hits_data[i])\n",
    "    print(zone_simhits_data[i])"
   ]
  },
  {
   "cell_type": "markdown",
   "metadata": {},
   "source": [
    "### Build images"
   ]
  },
  {
   "cell_type": "code",
   "execution_count": 12,
   "metadata": {},
   "outputs": [
    {
     "name": "stderr",
     "output_type": "stream",
     "text": [
      "/cvmfs/cms.cern.ch/slc7_amd64_gcc700/external/py2-numba/0.43.1-pafccj/lib/python2.7/site-packages/numba/__init__.py:78: UserWarning: llvmlite version format not recognized!\n",
      "  warnings.warn(\"llvmlite version format not recognized!\")\n"
     ]
    }
   ],
   "source": [
    "from numba import njit\n",
    "\n",
    "ind_ri_layer = hits_metadata['ri_layer']\n",
    "ind_zones = hits_metadata['zones']\n",
    "ind_timezones = hits_metadata['timezones']\n",
    "ind_emtf_phi = hits_metadata['emtf_phi']\n",
    "\n",
    "zo_layer_lut = np.array([find_emtf_zo_layer(ri_layer, zone) for ri_layer in range(19)], dtype=np.int32)\n",
    "\n",
    "zo_layer_labels = [\n",
    "  ['ME0'  , 'GE1/1', 'ME1/1', 'GE2/1', 'ME2/1', 'ME3/1', 'RE3/1', 'ME4/1'],\n",
    "  ['GE1/1', 'ME1/1', 'ME1/2', 'GE2/1', 'ME2/1', 'ME3/1', 'RE3/1', 'ME4/1'],\n",
    "  ['ME1/2', 'RE1/2', 'RE2/2', 'ME2/2', 'ME3/2', 'RE3/2', 'ME4/2', 'RE4/2'],\n",
    "]"
   ]
  },
  {
   "cell_type": "code",
   "execution_count": 13,
   "metadata": {
    "scrolled": false
   },
   "outputs": [],
   "source": [
    "# Build images\n",
    "\n",
    "def build_zone_images():\n",
    "  images = np.zeros((zone_part_data.shape[0],) + image_format, dtype=np.bool)\n",
    "  \n",
    "  zone_simhits_row_splits = zone_simhits_data.row_splits\n",
    "  zone_simhits_ri_layer = zone_simhits_data.values[:, ind_ri_layer]\n",
    "  zone_simhits_zones = zone_simhits_data.values[:, ind_zones]\n",
    "  zone_simhits_timezones = zone_simhits_data.values[:, ind_timezones]\n",
    "  zone_simhits_emtf_phi = zone_simhits_data.values[:, ind_emtf_phi]\n",
    "  \n",
    "  build_zone_images_jit_0(zone_part_data,\n",
    "                          zone_simhits_row_splits,\n",
    "                          zone_simhits_ri_layer,\n",
    "                          zone_simhits_zones,\n",
    "                          zone_simhits_timezones,\n",
    "                          zone_simhits_emtf_phi,\n",
    "                          images)\n",
    "  return images\n",
    "\n",
    "@njit\n",
    "def build_zone_images_jit_0(zone_part_data,\n",
    "                            zone_simhits_row_splits,\n",
    "                            zone_simhits_ri_layer,\n",
    "                            zone_simhits_zones,\n",
    "                            zone_simhits_timezones,\n",
    "                            zone_simhits_emtf_phi,\n",
    "                            images):\n",
    "  # Loop over events\n",
    "  for i in range(zone_part_data.shape[0]):\n",
    "    _slice = slice(zone_simhits_row_splits[i], zone_simhits_row_splits[i+1])\n",
    "    build_zone_images_jit_1(zone_simhits_ri_layer[_slice],\n",
    "                            zone_simhits_zones[_slice],\n",
    "                            zone_simhits_timezones[_slice],\n",
    "                            zone_simhits_emtf_phi[_slice],\n",
    "                            images[i])\n",
    "\n",
    "@njit\n",
    "def build_zone_images_jit_1(x_ri_layer,\n",
    "                            x_zones,\n",
    "                            x_timezones,\n",
    "                            x_emtf_phi,\n",
    "                            img):\n",
    "  _sel_fn = lambda zones_word, timezones_word: bool(zones_word & (1<<(2-zone))) and bool(timezones_word & (1<<(2-timezone)))\n",
    "  _row_fn = lambda ri_layer: zo_layer_lut[ri_layer]\n",
    "  _col_fn = lambda emtf_phi: (emtf_phi - min_emtf_strip) // coarse_emtf_strip\n",
    "  \n",
    "  # Loop over hits\n",
    "  for i in range(x_ri_layer.shape[0]):\n",
    "    sel = _sel_fn(x_zones[i], x_timezones[i])\n",
    "    row = _row_fn(x_ri_layer[i])\n",
    "    col = _col_fn(x_emtf_phi[i])\n",
    "    if sel and (row >= 0) and (col >= 0):\n",
    "      img[row, col] = 1\n"
   ]
  },
  {
   "cell_type": "code",
   "execution_count": 14,
   "metadata": {},
   "outputs": [],
   "source": [
    "# Display images\n",
    "\n",
    "def display_image(img, cmap=blue_hot, figsize=(10,2)):\n",
    "  fig, ax = plt.subplots(1, 1, figsize=figsize)\n",
    "  ax.imshow(img[...,0], origin='lower', interpolation='none', aspect='auto',\n",
    "            cmap=cmap, vmin=0, vmax=1.6)\n",
    "  ax.set_yticks(range(len(zo_layer_labels[zone])))\n",
    "  ax.set_yticklabels(zo_layer_labels[zone], fontsize=7)\n",
    "  ax.grid(False)\n",
    "  plt.show()"
   ]
  },
  {
   "cell_type": "code",
   "execution_count": 15,
   "metadata": {},
   "outputs": [
    {
     "name": "stderr",
     "output_type": "stream",
     "text": [
      "[INFO    ] images: (786769, 8, 300, 1)\n"
     ]
    }
   ],
   "source": [
    "images = build_zone_images()\n",
    "\n",
    "logger.info('images: {0}'.format(images.shape))"
   ]
  },
  {
   "cell_type": "code",
   "execution_count": 16,
   "metadata": {},
   "outputs": [
    {
     "name": "stderr",
     "output_type": "stream",
     "text": [
      "/cvmfs/cms.cern.ch/slc7_amd64_gcc700/external/py2-matplotlib/2.2.4-pafccj/lib/python2.7/site-packages/matplotlib/font_manager.py:1331: UserWarning: findfont: Font family [u'sans-serif'] not found. Falling back to DejaVu Sans\n",
      "  (prop.get_family(), self.defaultFamily[fontext]))\n"
     ]
    },
    {
     "name": "stdout",
     "output_type": "stream",
     "text": [
      "Event 0\n",
      "pt: 3.90455434323\n"
     ]
    },
    {
     "data": {
      "image/png": "[encoded data removed]",
      "text/plain": [
       "<Figure size 1500x300 with 1 Axes>"
      ]
     },
     "metadata": {},
     "output_type": "display_data"
    },
    {
     "name": "stdout",
     "output_type": "stream",
     "text": [
      "Event 1\n",
      "pt: 2.49711024644\n"
     ]
    },
    {
     "data": {
      "image/png": "[encoded data removed]",
      "text/plain": [
       "<Figure size 1500x300 with 1 Axes>"
      ]
     },
     "metadata": {},
     "output_type": "display_data"
    },
    {
     "name": "stdout",
     "output_type": "stream",
     "text": [
      "Event 2\n",
      "pt: 5.66378507264\n"
     ]
    },
    {
     "data": {
      "image/png": "[encoded data removed]",
      "text/plain": [
       "<Figure size 1500x300 with 1 Axes>"
      ]
     },
     "metadata": {},
     "output_type": "display_data"
    },
    {
     "name": "stdout",
     "output_type": "stream",
     "text": [
      "Event 3\n",
      "pt: 2.88331654986\n"
     ]
    },
    {
     "data": {
      "image/png": "[encoded data removed]",
      "text/plain": [
       "<Figure size 1500x300 with 1 Axes>"
      ]
     },
     "metadata": {},
     "output_type": "display_data"
    },
    {
     "name": "stdout",
     "output_type": "stream",
     "text": [
      "Event 4\n",
      "pt: 3.21029884748\n"
     ]
    },
    {
     "data": {
      "image/png": "[encoded data removed]",
      "text/plain": [
       "<Figure size 1500x300 with 1 Axes>"
      ]
     },
     "metadata": {},
     "output_type": "display_data"
    }
   ],
   "source": [
    "# Debug\n",
    "for i in range(5):\n",
    "  print('Event {0}'.format(i))\n",
    "  print('pt: {0}'.format(1.0/np.abs(zone_part_data[i, 0])))\n",
    "  display_image(images[i], cmap=green_hot)"
   ]
  },
  {
   "cell_type": "code",
   "execution_count": null,
   "metadata": {},
   "outputs": [],
   "source": []
  },
  {
   "cell_type": "code",
   "execution_count": null,
   "metadata": {},
   "outputs": [],
   "source": []
  }
 ],
 "metadata": {
  "kernelspec": {
   "display_name": "Python 2",
   "language": "python",
   "name": "python2"
  },
  "language_info": {
   "codemirror_mode": {
    "name": "ipython",
    "version": 2
   },
   "file_extension": ".py",
   "mimetype": "text/x-python",
   "name": "python",
   "nbconvert_exporter": "python",
   "pygments_lexer": "ipython2",
   "version": "2.7.14+"
  }
 },
 "nbformat": 4,
 "nbformat_minor": 2
}
